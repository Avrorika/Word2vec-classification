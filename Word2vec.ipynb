{
  "cells": [
    {
      "cell_type": "code",
      "execution_count": null,
      "metadata": {
        "execution": {
          "iopub.execute_input": "2022-03-02T16:12:45.585073Z",
          "iopub.status.busy": "2022-03-02T16:12:45.584486Z",
          "iopub.status.idle": "2022-03-02T16:12:45.596866Z",
          "shell.execute_reply": "2022-03-02T16:12:45.596139Z",
          "shell.execute_reply.started": "2022-03-02T16:12:45.585031Z"
        },
        "id": "nfYVVcGg-kzk"
      },
      "outputs": [],
      "source": [
        "import numpy as np\n",
        "import pandas as pd\n",
        "from sklearn.metrics import accuracy_score\n",
        "from sklearn.metrics import f1_score\n",
        "from sklearn.linear_model import SGDClassifier\n",
        "from gensim.models.keyedvectors import KeyedVectors"
      ]
    },
    {
      "cell_type": "code",
      "source": [
        "! mkdir ~/.kaggle\n",
        "! cp kaggle.json ~/.kaggle/\n",
        "! chmod 600 ~/.kaggle/kaggle.json"
      ],
      "metadata": {
        "id": "h-ZCJGCHQA_f",
        "colab": {
          "base_uri": "https://localhost:8080/"
        },
        "outputId": "e1ade014-fe51-48ad-c63e-cd11b9c87e59"
      },
      "execution_count": null,
      "outputs": [
        {
          "output_type": "stream",
          "name": "stdout",
          "text": [
            "mkdir: cannot create directory ‘/root/.kaggle’: File exists\n"
          ]
        }
      ]
    },
    {
      "cell_type": "code",
      "source": [
        "! unzip pretrained-word-vectors-for-spanish.zip"
      ],
      "metadata": {
        "colab": {
          "base_uri": "https://localhost:8080/"
        },
        "id": "QTnnTqFYRcK5",
        "outputId": "c07d34b4-9faf-4592-8b9d-90036dd373af"
      },
      "execution_count": null,
      "outputs": [
        {
          "output_type": "stream",
          "name": "stdout",
          "text": [
            "Archive:  pretrained-word-vectors-for-spanish.zip\n",
            "  inflating: SBW-vectors-300-min5.txt  \n"
          ]
        }
      ]
    },
    {
      "cell_type": "code",
      "source": [
        "!kaggle datasets download -d rtatman/pretrained-word-vectors-for-spanish --force "
      ],
      "metadata": {
        "colab": {
          "base_uri": "https://localhost:8080/"
        },
        "id": "idjUeFikQbDq",
        "outputId": "90fe9484-11fe-427a-9c48-34bcc07df610"
      },
      "execution_count": null,
      "outputs": [
        {
          "output_type": "stream",
          "name": "stdout",
          "text": [
            "Downloading pretrained-word-vectors-for-spanish.zip to /content\n",
            "100% 0.98G/0.98G [00:07<00:00, 124MB/s]\n",
            "100% 0.98G/0.98G [00:07<00:00, 144MB/s]\n"
          ]
        }
      ]
    },
    {
      "cell_type": "code",
      "execution_count": null,
      "metadata": {
        "execution": {
          "iopub.execute_input": "2022-03-02T16:13:56.032273Z",
          "iopub.status.busy": "2022-03-02T16:13:56.031767Z",
          "iopub.status.idle": "2022-03-02T16:13:56.587665Z",
          "shell.execute_reply": "2022-03-02T16:13:56.586962Z",
          "shell.execute_reply.started": "2022-03-02T16:13:56.032237Z"
        },
        "id": "PHC_okS8-vJm"
      },
      "outputs": [],
      "source": [
        "df_train=pd.read_csv('labels_racism.csv', sep=\"|\")"
      ]
    },
    {
      "cell_type": "code",
      "source": [
        "df_test=pd.read_csv('evaluation_sample.csv', sep=\"|\")d"
      ],
      "metadata": {
        "id": "SaUUCqedq868"
      },
      "execution_count": null,
      "outputs": []
    },
    {
      "cell_type": "code",
      "source": [
        "keyed_vectors = KeyedVectors.load_word2vec_format('SBW-vectors-300-min5.txt', \n",
        "                                                  binary=False)"
      ],
      "metadata": {
        "id": "Wt7B9zO5mQJl"
      },
      "execution_count": null,
      "outputs": []
    },
    {
      "cell_type": "code",
      "execution_count": null,
      "metadata": {
        "id": "ktXscpD0r-hN"
      },
      "outputs": [],
      "source": [
        "def mean_embbed_with_es_glove(list_of_texts, keyed_vectors):\n",
        "    def mean_vectorize_sent(sent, keyed_vectors):\n",
        "        vects = [keyed_vectors[w] for w in sent.split(' ') if w in keyed_vectors]\n",
        "        if not vects:\n",
        "            return np.zeros(keyed_vectors.vector_size)\n",
        "        else:\n",
        "            return np.mean(vects, axis=0)\n",
        "    \n",
        "    return np.array([\n",
        "            mean_vectorize_sent(sent, keyed_vectors)\n",
        "            for sent in list_of_texts\n",
        "        ])"
      ]
    },
    {
      "cell_type": "code",
      "source": [
        "data_mean = mean_embbed_with_es_glove(df_train[\"message\"].tolist(), keyed_vectors)"
      ],
      "metadata": {
        "id": "ItHvUPrZmXUN"
      },
      "execution_count": null,
      "outputs": []
    },
    {
      "cell_type": "code",
      "source": [
        "data_val = mean_embbed_with_es_glove(df_test[\"message\"].tolist(), keyed_vectors)"
      ],
      "metadata": {
        "id": "CyhXfrNCFJfa"
      },
      "execution_count": null,
      "outputs": []
    },
    {
      "cell_type": "code",
      "source": [
        "Xtr=data_mean"
      ],
      "metadata": {
        "id": "iUz4asemEJvW"
      },
      "execution_count": null,
      "outputs": []
    },
    {
      "cell_type": "code",
      "source": [
        "ytr=df_train.label"
      ],
      "metadata": {
        "id": "gDCjqeYZEX8U"
      },
      "execution_count": null,
      "outputs": []
    },
    {
      "cell_type": "code",
      "source": [
        "Xval = data_val"
      ],
      "metadata": {
        "id": "yeAmEXBAEY2j"
      },
      "execution_count": null,
      "outputs": []
    },
    {
      "cell_type": "code",
      "source": [
        "yval= df_test.label"
      ],
      "metadata": {
        "id": "MTUtW0yAEZnP"
      },
      "execution_count": null,
      "outputs": []
    },
    {
      "cell_type": "code",
      "source": [
        "model = SGDClassifier().fit(Xtr, ytr)\n",
        "pred = model.predict(Xval)"
      ],
      "metadata": {
        "id": "jixquRAiIPX1"
      },
      "execution_count": null,
      "outputs": []
    },
    {
      "cell_type": "code",
      "source": [
        "accuracy_score(yval, pred)"
      ],
      "metadata": {
        "colab": {
          "base_uri": "https://localhost:8080/"
        },
        "id": "Px8UUyU5UJ2p",
        "outputId": "6d11b7a6-76a4-44eb-cc7c-8c069d141653"
      },
      "execution_count": null,
      "outputs": [
        {
          "output_type": "execute_result",
          "data": {
            "text/plain": [
              "0.6610169491525424"
            ]
          },
          "metadata": {},
          "execution_count": 40
        }
      ]
    },
    {
      "cell_type": "code",
      "source": [
        "f1_score(pred, yval, average='weighted')"
      ],
      "metadata": {
        "colab": {
          "base_uri": "https://localhost:8080/"
        },
        "id": "BZzOa2QzEpfc",
        "outputId": "8deba8b5-04ce-4a72-c7bf-a3fa72fb5d50"
      },
      "execution_count": null,
      "outputs": [
        {
          "output_type": "execute_result",
          "data": {
            "text/plain": [
              "0.7203627213597303"
            ]
          },
          "metadata": {},
          "execution_count": 41
        }
      ]
    }
  ],
  "metadata": {
    "colab": {
      "name": "Word2vec.ipynb",
      "provenance": [],
      "collapsed_sections": []
    },
    "kernelspec": {
      "display_name": "Python 3 (ipykernel)",
      "language": "python",
      "name": "python3"
    },
    "language_info": {
      "codemirror_mode": {
        "name": "ipython",
        "version": 3
      },
      "file_extension": ".py",
      "mimetype": "text/x-python",
      "name": "python",
      "nbconvert_exporter": "python",
      "pygments_lexer": "ipython3",
      "version": "3.8.12"
    }
  },
  "nbformat": 4,
  "nbformat_minor": 0
}